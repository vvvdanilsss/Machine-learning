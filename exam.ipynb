{
 "nbformat": 4,
 "nbformat_minor": 0,
 "metadata": {
  "colab": {
   "provenance": [],
   "authorship_tag": "ABX9TyMmkyvZn9Ju+fR3qx+jbEwT"
  },
  "kernelspec": {
   "name": "python3",
   "display_name": "Python 3"
  },
  "language_info": {
   "name": "python"
  }
 },
 "cells": [
  {
   "cell_type": "code",
   "source": [
    "from google.colab import drive\n",
    "drive.mount('/content/drive')"
   ],
   "metadata": {
    "colab": {
     "base_uri": "https://localhost:8080/"
    },
    "id": "zlAX5LfQgrVv",
    "executionInfo": {
     "status": "ok",
     "timestamp": 1687351936509,
     "user_tz": -180,
     "elapsed": 40825,
     "user": {
      "displayName": "Danila Vlasov",
      "userId": "14925363309788185842"
     }
    },
    "outputId": "997de933-93b4-4f65-8624-5a886a1a558b"
   },
   "execution_count": 1,
   "outputs": [
    {
     "output_type": "stream",
     "name": "stdout",
     "text": [
      "Mounted at /content/drive\n"
     ]
    }
   ]
  },
  {
   "cell_type": "code",
   "source": [
    "from sklearn.decomposition import PCA\n",
    "import pandas as pd\n",
    "import numpy as np\n",
    "\n",
    "\n",
    "df_train = pd.read_csv('/content/drive/MyDrive/Colab Notebooks/MNIST_train.csv')\n",
    "df_test = pd.read_csv('/content/drive/MyDrive/Colab Notebooks/MNIST_test.csv')\n",
    "\n",
    "df_filt_train = df_train[df_train['label'].isin([6, 7])]\n",
    "df_filt_test = df_test[df_test['label'].isin([6, 7])]\n",
    "\n",
    "x_train = df_filt_train.drop('label', axis=1)\n",
    "y_train = df_filt_train['label']\n",
    "x_test = df_filt_test.drop('label', axis=1)\n",
    "y_test = df_filt_test['label']\n",
    "\n",
    "pca = PCA(svd_solver='full')\n",
    "pca.fit(x_train)"
   ],
   "metadata": {
    "colab": {
     "base_uri": "https://localhost:8080/",
     "height": 75
    },
    "id": "pKpyRPW3gxAH",
    "executionInfo": {
     "status": "ok",
     "timestamp": 1687351947543,
     "user_tz": -180,
     "elapsed": 11037,
     "user": {
      "displayName": "Danila Vlasov",
      "userId": "14925363309788185842"
     }
    },
    "outputId": "f2457e95-42b7-4f8b-8bec-916a3bdcf0ac"
   },
   "execution_count": 2,
   "outputs": [
    {
     "output_type": "execute_result",
     "data": {
      "text/plain": [
       "PCA(svd_solver='full')"
      ],
      "text/html": [
       "<style>#sk-container-id-1 {color: black;background-color: white;}#sk-container-id-1 pre{padding: 0;}#sk-container-id-1 div.sk-toggleable {background-color: white;}#sk-container-id-1 label.sk-toggleable__label {cursor: pointer;display: block;width: 100%;margin-bottom: 0;padding: 0.3em;box-sizing: border-box;text-align: center;}#sk-container-id-1 label.sk-toggleable__label-arrow:before {content: \"▸\";float: left;margin-right: 0.25em;color: #696969;}#sk-container-id-1 label.sk-toggleable__label-arrow:hover:before {color: black;}#sk-container-id-1 div.sk-estimator:hover label.sk-toggleable__label-arrow:before {color: black;}#sk-container-id-1 div.sk-toggleable__content {max-height: 0;max-width: 0;overflow: hidden;text-align: left;background-color: #f0f8ff;}#sk-container-id-1 div.sk-toggleable__content pre {margin: 0.2em;color: black;border-radius: 0.25em;background-color: #f0f8ff;}#sk-container-id-1 input.sk-toggleable__control:checked~div.sk-toggleable__content {max-height: 200px;max-width: 100%;overflow: auto;}#sk-container-id-1 input.sk-toggleable__control:checked~label.sk-toggleable__label-arrow:before {content: \"▾\";}#sk-container-id-1 div.sk-estimator input.sk-toggleable__control:checked~label.sk-toggleable__label {background-color: #d4ebff;}#sk-container-id-1 div.sk-label input.sk-toggleable__control:checked~label.sk-toggleable__label {background-color: #d4ebff;}#sk-container-id-1 input.sk-hidden--visually {border: 0;clip: rect(1px 1px 1px 1px);clip: rect(1px, 1px, 1px, 1px);height: 1px;margin: -1px;overflow: hidden;padding: 0;position: absolute;width: 1px;}#sk-container-id-1 div.sk-estimator {font-family: monospace;background-color: #f0f8ff;border: 1px dotted black;border-radius: 0.25em;box-sizing: border-box;margin-bottom: 0.5em;}#sk-container-id-1 div.sk-estimator:hover {background-color: #d4ebff;}#sk-container-id-1 div.sk-parallel-item::after {content: \"\";width: 100%;border-bottom: 1px solid gray;flex-grow: 1;}#sk-container-id-1 div.sk-label:hover label.sk-toggleable__label {background-color: #d4ebff;}#sk-container-id-1 div.sk-serial::before {content: \"\";position: absolute;border-left: 1px solid gray;box-sizing: border-box;top: 0;bottom: 0;left: 50%;z-index: 0;}#sk-container-id-1 div.sk-serial {display: flex;flex-direction: column;align-items: center;background-color: white;padding-right: 0.2em;padding-left: 0.2em;position: relative;}#sk-container-id-1 div.sk-item {position: relative;z-index: 1;}#sk-container-id-1 div.sk-parallel {display: flex;align-items: stretch;justify-content: center;background-color: white;position: relative;}#sk-container-id-1 div.sk-item::before, #sk-container-id-1 div.sk-parallel-item::before {content: \"\";position: absolute;border-left: 1px solid gray;box-sizing: border-box;top: 0;bottom: 0;left: 50%;z-index: -1;}#sk-container-id-1 div.sk-parallel-item {display: flex;flex-direction: column;z-index: 1;position: relative;background-color: white;}#sk-container-id-1 div.sk-parallel-item:first-child::after {align-self: flex-end;width: 50%;}#sk-container-id-1 div.sk-parallel-item:last-child::after {align-self: flex-start;width: 50%;}#sk-container-id-1 div.sk-parallel-item:only-child::after {width: 0;}#sk-container-id-1 div.sk-dashed-wrapped {border: 1px dashed gray;margin: 0 0.4em 0.5em 0.4em;box-sizing: border-box;padding-bottom: 0.4em;background-color: white;}#sk-container-id-1 div.sk-label label {font-family: monospace;font-weight: bold;display: inline-block;line-height: 1.2em;}#sk-container-id-1 div.sk-label-container {text-align: center;}#sk-container-id-1 div.sk-container {/* jupyter's `normalize.less` sets `[hidden] { display: none; }` but bootstrap.min.css set `[hidden] { display: none !important; }` so we also need the `!important` here to be able to override the default hidden behavior on the sphinx rendered scikit-learn.org. See: https://github.com/scikit-learn/scikit-learn/issues/21755 */display: inline-block !important;position: relative;}#sk-container-id-1 div.sk-text-repr-fallback {display: none;}</style><div id=\"sk-container-id-1\" class=\"sk-top-container\"><div class=\"sk-text-repr-fallback\"><pre>PCA(svd_solver=&#x27;full&#x27;)</pre><b>In a Jupyter environment, please rerun this cell to show the HTML representation or trust the notebook. <br />On GitHub, the HTML representation is unable to render, please try loading this page with nbviewer.org.</b></div><div class=\"sk-container\" hidden><div class=\"sk-item\"><div class=\"sk-estimator sk-toggleable\"><input class=\"sk-toggleable__control sk-hidden--visually\" id=\"sk-estimator-id-1\" type=\"checkbox\" checked><label for=\"sk-estimator-id-1\" class=\"sk-toggleable__label sk-toggleable__label-arrow\">PCA</label><div class=\"sk-toggleable__content\"><pre>PCA(svd_solver=&#x27;full&#x27;)</pre></div></div></div></div></div>"
      ]
     },
     "metadata": {},
     "execution_count": 2
    }
   ]
  },
  {
   "cell_type": "code",
   "source": [
    "len(df_train), len(df_test)"
   ],
   "metadata": {
    "colab": {
     "base_uri": "https://localhost:8080/"
    },
    "id": "nEXdg9J1rASO",
    "executionInfo": {
     "status": "ok",
     "timestamp": 1687351947543,
     "user_tz": -180,
     "elapsed": 10,
     "user": {
      "displayName": "Danila Vlasov",
      "userId": "14925363309788185842"
     }
    },
    "outputId": "e79bcae4-cbfc-43dd-98c0-0e03bb234f78"
   },
   "execution_count": 3,
   "outputs": [
    {
     "output_type": "execute_result",
     "data": {
      "text/plain": [
       "(60000, 10000)"
      ]
     },
     "metadata": {},
     "execution_count": 3
    }
   ]
  },
  {
   "cell_type": "code",
   "source": [
    "evr = np.cumsum(pca.explained_variance_ratio_)\n",
    "np.where(evr > 0.84)[0][0] + 1"
   ],
   "metadata": {
    "colab": {
     "base_uri": "https://localhost:8080/"
    },
    "id": "skqA1OHAiURQ",
    "executionInfo": {
     "status": "ok",
     "timestamp": 1687351947544,
     "user_tz": -180,
     "elapsed": 8,
     "user": {
      "displayName": "Danila Vlasov",
      "userId": "14925363309788185842"
     }
    },
    "outputId": "e0cec31d-8c3d-426a-c8e3-12e045583510"
   },
   "execution_count": 4,
   "outputs": [
    {
     "output_type": "execute_result",
     "data": {
      "text/plain": [
       "46"
      ]
     },
     "metadata": {},
     "execution_count": 4
    }
   ]
  },
  {
   "cell_type": "code",
   "source": [
    "pca = PCA(svd_solver='full', n_components=46)\n",
    "x_train_pca = pca.fit_transform(x_train)\n",
    "x_test_pca = pca.transform(x_test)"
   ],
   "metadata": {
    "id": "Jrw_c9oDiuJG",
    "executionInfo": {
     "status": "ok",
     "timestamp": 1687351950711,
     "user_tz": -180,
     "elapsed": 3173,
     "user": {
      "displayName": "Danila Vlasov",
      "userId": "14925363309788185842"
     }
    }
   },
   "execution_count": 5,
   "outputs": []
  },
  {
   "cell_type": "code",
   "source": [
    "x_train_pca[13][8]"
   ],
   "metadata": {
    "colab": {
     "base_uri": "https://localhost:8080/"
    },
    "id": "aUwkHB1pjXv0",
    "executionInfo": {
     "status": "ok",
     "timestamp": 1687351950711,
     "user_tz": -180,
     "elapsed": 5,
     "user": {
      "displayName": "Danila Vlasov",
      "userId": "14925363309788185842"
     }
    },
    "outputId": "81081b19-c65e-4d92-ecde-4e2befe0ddcf"
   },
   "execution_count": 6,
   "outputs": [
    {
     "output_type": "execute_result",
     "data": {
      "text/plain": [
       "-66.86359746012437"
      ]
     },
     "metadata": {},
     "execution_count": 6
    }
   ]
  },
  {
   "cell_type": "code",
   "source": [
    "from sklearn.ensemble import GradientBoostingClassifier\n",
    "from sklearn.metrics import classification_report, confusion_matrix\n",
    "\n",
    "\n",
    "gbc = GradientBoostingClassifier(n_estimators=500, learning_rate=0.8, random_state=11, max_depth=2)\n",
    "gbc.fit(x_train_pca, y_train)\n",
    "y_pred = gbc.predict(x_test_pca)"
   ],
   "metadata": {
    "id": "F9AeRuU5kHV4",
    "executionInfo": {
     "status": "ok",
     "timestamp": 1687352030691,
     "user_tz": -180,
     "elapsed": 79983,
     "user": {
      "displayName": "Danila Vlasov",
      "userId": "14925363309788185842"
     }
    }
   },
   "execution_count": 7,
   "outputs": []
  },
  {
   "cell_type": "code",
   "source": [
    "classification_report(y_test, y_pred, output_dict=True)[\"accuracy\"]"
   ],
   "metadata": {
    "colab": {
     "base_uri": "https://localhost:8080/"
    },
    "id": "f3Ou_7z-k5Bc",
    "executionInfo": {
     "status": "ok",
     "timestamp": 1687352030692,
     "user_tz": -180,
     "elapsed": 16,
     "user": {
      "displayName": "Danila Vlasov",
      "userId": "14925363309788185842"
     }
    },
    "outputId": "1775402b-045c-4122-9705-4d60c8d8581c"
   },
   "execution_count": 8,
   "outputs": [
    {
     "output_type": "execute_result",
     "data": {
      "text/plain": [
       "0.9934541792547835"
      ]
     },
     "metadata": {},
     "execution_count": 8
    }
   ]
  },
  {
   "cell_type": "code",
   "source": [
    "confusion_matrix(y_test, y_pred)"
   ],
   "metadata": {
    "colab": {
     "base_uri": "https://localhost:8080/"
    },
    "id": "_-3Qa-UKlNUi",
    "executionInfo": {
     "status": "ok",
     "timestamp": 1687352030692,
     "user_tz": -180,
     "elapsed": 14,
     "user": {
      "displayName": "Danila Vlasov",
      "userId": "14925363309788185842"
     }
    },
    "outputId": "be747ba4-ff99-4521-bddd-222918089fe0"
   },
   "execution_count": 9,
   "outputs": [
    {
     "output_type": "execute_result",
     "data": {
      "text/plain": [
       "array([[ 951,    7],\n",
       "       [   6, 1022]])"
      ]
     },
     "metadata": {},
     "execution_count": 9
    }
   ]
  },
  {
   "cell_type": "code",
   "source": [
    "from sklearn.ensemble import BaggingClassifier\n",
    "from sklearn.tree import DecisionTreeClassifier\n",
    "\n",
    "\n",
    "bc = BaggingClassifier(\n",
    "    DecisionTreeClassifier(class_weight='balanced'),\n",
    "    max_samples=0.5,\n",
    "    max_features=0.5,\n",
    "    bootstrap=False,\n",
    "  random_state=11)\n",
    "bc.fit(x_train_pca, y_train)\n",
    "y_pred_bc = bc.predict(x_test_pca)"
   ],
   "metadata": {
    "id": "2NO1cmH6lTtY",
    "executionInfo": {
     "status": "ok",
     "timestamp": 1687352032781,
     "user_tz": -180,
     "elapsed": 2101,
     "user": {
      "displayName": "Danila Vlasov",
      "userId": "14925363309788185842"
     }
    }
   },
   "execution_count": 10,
   "outputs": []
  },
  {
   "cell_type": "code",
   "source": [
    "classification_report(y_test, y_pred_bc, output_dict=True)[\"accuracy\"]"
   ],
   "metadata": {
    "colab": {
     "base_uri": "https://localhost:8080/"
    },
    "id": "s05WbYlsmMEi",
    "executionInfo": {
     "status": "ok",
     "timestamp": 1687352032781,
     "user_tz": -180,
     "elapsed": 10,
     "user": {
      "displayName": "Danila Vlasov",
      "userId": "14925363309788185842"
     }
    },
    "outputId": "99994d2f-bcc4-4a0e-b326-0816c713bcde"
   },
   "execution_count": 11,
   "outputs": [
    {
     "output_type": "execute_result",
     "data": {
      "text/plain": [
       "0.9909365558912386"
      ]
     },
     "metadata": {},
     "execution_count": 11
    }
   ]
  },
  {
   "cell_type": "code",
   "source": [
    "confusion_matrix(y_test, y_pred_bc)"
   ],
   "metadata": {
    "colab": {
     "base_uri": "https://localhost:8080/"
    },
    "id": "eVog7eYYmP3T",
    "executionInfo": {
     "status": "ok",
     "timestamp": 1687352032782,
     "user_tz": -180,
     "elapsed": 8,
     "user": {
      "displayName": "Danila Vlasov",
      "userId": "14925363309788185842"
     }
    },
    "outputId": "ee0e1675-6f50-439d-df73-747a9c38d1c1"
   },
   "execution_count": 12,
   "outputs": [
    {
     "output_type": "execute_result",
     "data": {
      "text/plain": [
       "array([[ 951,    7],\n",
       "       [  11, 1017]])"
      ]
     },
     "metadata": {},
     "execution_count": 12
    }
   ]
  }
 ]
}
