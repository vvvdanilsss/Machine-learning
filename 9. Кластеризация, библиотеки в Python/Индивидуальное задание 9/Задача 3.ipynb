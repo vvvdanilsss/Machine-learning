{
  "nbformat": 4,
  "nbformat_minor": 0,
  "metadata": {
    "colab": {
      "provenance": []
    },
    "kernelspec": {
      "name": "python3",
      "display_name": "Python 3"
    },
    "language_info": {
      "name": "python"
    }
  },
  "cells": [
    {
      "cell_type": "markdown",
      "source": [
        "# Генеративная модель на основе гауссовых смесей"
      ],
      "metadata": {
        "collapsed": false,
        "pycharm": {
          "name": "#%% md\n"
        },
        "id": "aqMY86T_7hsP"
      }
    },
    {
      "cell_type": "markdown",
      "source": [
        "Гауссовы смеси — естественное математическое обобщение алгоритма `K-means`. По сути, подход ищет не просто какие-то кучки вокруг формирующихся центроидов, а некоторую смесь многомерных нормальных распределений (по сути — тоже кучки вокруг средних со своими дисперсиями). Так как такой подход оценивает плотности распределений, то он часто используется в задачах KDE (kernel density estimation). В том числе, он может быть применен к задаче генерации: если есть плотность распределения, то можно семплировать и получать новые объекты. Давайте посмотрим на простейший пример решения такой задачи."
      ],
      "metadata": {
        "collapsed": false,
        "pycharm": {
          "name": "#%% md\n"
        },
        "id": "mRtfBj7s7hsP"
      }
    },
    {
      "cell_type": "markdown",
      "source": [
        "Работать будем опять-таки с `MNIST`. Так как модель оказывается крайне тяжеловесной, будем использовать «простой» набор данных. Визуализируем элементы этого набора данных (для наглядности)"
      ],
      "metadata": {
        "collapsed": false,
        "pycharm": {
          "name": "#%% md\n"
        },
        "id": "MY-avo2u7hsP"
      }
    },
    {
      "cell_type": "code",
      "execution_count": 1,
      "outputs": [
        {
          "output_type": "execute_result",
          "data": {
            "text/plain": [
              "(1797, 64)"
            ]
          },
          "metadata": {},
          "execution_count": 1
        }
      ],
      "source": [
        "from sklearn.datasets import load_digits\n",
        "from sklearn.decomposition import PCA\n",
        "from sklearn.mixture import GaussianMixture\n",
        "import matplotlib.pyplot as plt\n",
        "import numpy as np\n",
        "\n",
        "random_state = 23\n",
        "\n",
        "digits = load_digits()\n",
        "digits.data.shape"
      ],
      "metadata": {
        "pycharm": {
          "name": "#%%\n"
        },
        "id": "dCNn7ks97hsP",
        "colab": {
          "base_uri": "https://localhost:8080/"
        },
        "outputId": "11d2f9e0-e173-4201-ee23-8f0516019d91"
      }
    },
    {
      "cell_type": "code",
      "execution_count": 2,
      "outputs": [
        {
          "output_type": "display_data",
          "data": {
            "text/plain": [
              "<Figure size 800x800 with 100 Axes>"
            ],
            "image/png": "[encoded data removed]"
          },
          "metadata": {}
        }
      ],
      "source": [
        "fig, ax = plt.subplots(10, 10, figsize=(8, 8), subplot_kw=dict(xticks=[], yticks=[]))\n",
        "fig.subplots_adjust(hspace=0.05, wspace=0.05)\n",
        "for i, axi in enumerate(ax.flat):\n",
        "    im = axi.imshow(digits.data[i].reshape(8,8), cmap='binary')\n",
        "    im.set_clim(0, 16)"
      ],
      "metadata": {
        "pycharm": {
          "name": "#%%\n"
        },
        "id": "ygsNMoYZ7hsQ",
        "colab": {
          "base_uri": "https://localhost:8080/",
          "height": 653
        },
        "outputId": "83c7eeae-61f5-4b83-fd8b-a9ce3a793025"
      }
    },
    {
      "cell_type": "markdown",
      "source": [
        "Для того, чтобы обучение проходило быстрее имеет смысл снизить размерность пространства признаков. Произведите преобразования для всего набора данных помощи <code>PCA(n_components=0.99, svd_solver=='full')</code>.\n"
      ],
      "metadata": {
        "collapsed": false,
        "pycharm": {
          "name": "#%% md\n"
        },
        "id": "wXcooMSH7hsQ"
      }
    },
    {
      "cell_type": "code",
      "execution_count": 5,
      "outputs": [],
      "source": [
        "pca = PCA(n_components=0.99, svd_solver='full')\n",
        "digits_pca = pca.fit_transform(digits.data)"
      ],
      "metadata": {
        "pycharm": {
          "name": "#%%\n"
        },
        "id": "p76FXvva7hsQ"
      }
    },
    {
      "cell_type": "markdown",
      "source": [
        "Введите число полученных ГК"
      ],
      "metadata": {
        "id": "Ma5b_5mlpjCM"
      }
    },
    {
      "cell_type": "code",
      "execution_count": 4,
      "outputs": [
        {
          "output_type": "execute_result",
          "data": {
            "text/plain": [
              "41"
            ]
          },
          "metadata": {},
          "execution_count": 4
        }
      ],
      "source": [
        "digits_pca.shape[1]"
      ],
      "metadata": {
        "pycharm": {
          "name": "#%%\n"
        },
        "id": "AyUeawEt7hsQ",
        "colab": {
          "base_uri": "https://localhost:8080/"
        },
        "outputId": "07626942-fd10-4b92-a740-5664463c7e9d"
      }
    },
    {
      "cell_type": "markdown",
      "source": [
        "Обучим интересующую нас модель, подобрав гиперпараметр, отвечающий за число используемых компонент, минимизируя <a href=\"https://ru.wikipedia.org/wiki/Информационный_критерий_Акаике\">информационный критерий Акаике</a>.\n",
        "\n",
        "Для значений параметра <code>n_components</code> в диапазоне $[50,250)$ с шагом $10$ обучите модели <a href=\"https://scikit-learn.org/stable/modules/generated/sklearn.mixture.GaussianMixture.html\"><code>GaussianMixture</code></a> с параметрами, указанными в вашем задании. При помоши метода <code>.aic()</code> вычислите значение критерия каждой модели.\n",
        "\n",
        "Введите значение <code>n_components</code> модели с наименьшим значением критерия Акаике.\n",
        "\n",
        "\n"
      ],
      "metadata": {
        "id": "gwArf-clzg2m"
      }
    },
    {
      "cell_type": "code",
      "execution_count": 6,
      "outputs": [
        {
          "output_type": "execute_result",
          "data": {
            "text/plain": [
              "180"
            ]
          },
          "metadata": {},
          "execution_count": 6
        }
      ],
      "source": [
        "min_aic = float('inf')\n",
        "min_aic_n = 0\n",
        "\n",
        "for n_components in range(50, 250, 10):\n",
        "    gm = GaussianMixture(n_components=n_components, covariance_type='full', random_state=random_state)\n",
        "    \n",
        "    gm.fit(digits_pca)\n",
        "\n",
        "    if (gm.aic(digits_pca) < min_aic):\n",
        "        min_aic = gm.aic(digits_pca)\n",
        "        min_aic_n = n_components\n",
        "\n",
        "min_aic_n"
      ],
      "metadata": {
        "pycharm": {
          "name": "#%%\n"
        },
        "id": "kh26_izK7hsQ",
        "colab": {
          "base_uri": "https://localhost:8080/"
        },
        "outputId": "448467ba-45fd-4f94-bf4c-43d77ea02197"
      }
    },
    {
      "cell_type": "markdown",
      "source": [
        "Обучите финальную модель на подобранном гиперпараметре. Проверьте, что обучение сошлось (поле <code>.converged_</code> модели)."
      ],
      "metadata": {
        "collapsed": false,
        "pycharm": {
          "name": "#%% md\n"
        },
        "id": "LIoODHeP7hsR"
      }
    },
    {
      "cell_type": "code",
      "execution_count": 8,
      "outputs": [
        {
          "output_type": "execute_result",
          "data": {
            "text/plain": [
              "GaussianMixture(n_components=180, random_state=23)"
            ],
            "text/html": [
              "<style>#sk-container-id-1 {color: black;background-color: white;}#sk-container-id-1 pre{padding: 0;}#sk-container-id-1 div.sk-toggleable {background-color: white;}#sk-container-id-1 label.sk-toggleable__label {cursor: pointer;display: block;width: 100%;margin-bottom: 0;padding: 0.3em;box-sizing: border-box;text-align: center;}#sk-container-id-1 label.sk-toggleable__label-arrow:before {content: \"▸\";float: left;margin-right: 0.25em;color: #696969;}#sk-container-id-1 label.sk-toggleable__label-arrow:hover:before {color: black;}#sk-container-id-1 div.sk-estimator:hover label.sk-toggleable__label-arrow:before {color: black;}#sk-container-id-1 div.sk-toggleable__content {max-height: 0;max-width: 0;overflow: hidden;text-align: left;background-color: #f0f8ff;}#sk-container-id-1 div.sk-toggleable__content pre {margin: 0.2em;color: black;border-radius: 0.25em;background-color: #f0f8ff;}#sk-container-id-1 input.sk-toggleable__control:checked~div.sk-toggleable__content {max-height: 200px;max-width: 100%;overflow: auto;}#sk-container-id-1 input.sk-toggleable__control:checked~label.sk-toggleable__label-arrow:before {content: \"▾\";}#sk-container-id-1 div.sk-estimator input.sk-toggleable__control:checked~label.sk-toggleable__label {background-color: #d4ebff;}#sk-container-id-1 div.sk-label input.sk-toggleable__control:checked~label.sk-toggleable__label {background-color: #d4ebff;}#sk-container-id-1 input.sk-hidden--visually {border: 0;clip: rect(1px 1px 1px 1px);clip: rect(1px, 1px, 1px, 1px);height: 1px;margin: -1px;overflow: hidden;padding: 0;position: absolute;width: 1px;}#sk-container-id-1 div.sk-estimator {font-family: monospace;background-color: #f0f8ff;border: 1px dotted black;border-radius: 0.25em;box-sizing: border-box;margin-bottom: 0.5em;}#sk-container-id-1 div.sk-estimator:hover {background-color: #d4ebff;}#sk-container-id-1 div.sk-parallel-item::after {content: \"\";width: 100%;border-bottom: 1px solid gray;flex-grow: 1;}#sk-container-id-1 div.sk-label:hover label.sk-toggleable__label {background-color: #d4ebff;}#sk-container-id-1 div.sk-serial::before {content: \"\";position: absolute;border-left: 1px solid gray;box-sizing: border-box;top: 0;bottom: 0;left: 50%;z-index: 0;}#sk-container-id-1 div.sk-serial {display: flex;flex-direction: column;align-items: center;background-color: white;padding-right: 0.2em;padding-left: 0.2em;position: relative;}#sk-container-id-1 div.sk-item {position: relative;z-index: 1;}#sk-container-id-1 div.sk-parallel {display: flex;align-items: stretch;justify-content: center;background-color: white;position: relative;}#sk-container-id-1 div.sk-item::before, #sk-container-id-1 div.sk-parallel-item::before {content: \"\";position: absolute;border-left: 1px solid gray;box-sizing: border-box;top: 0;bottom: 0;left: 50%;z-index: -1;}#sk-container-id-1 div.sk-parallel-item {display: flex;flex-direction: column;z-index: 1;position: relative;background-color: white;}#sk-container-id-1 div.sk-parallel-item:first-child::after {align-self: flex-end;width: 50%;}#sk-container-id-1 div.sk-parallel-item:last-child::after {align-self: flex-start;width: 50%;}#sk-container-id-1 div.sk-parallel-item:only-child::after {width: 0;}#sk-container-id-1 div.sk-dashed-wrapped {border: 1px dashed gray;margin: 0 0.4em 0.5em 0.4em;box-sizing: border-box;padding-bottom: 0.4em;background-color: white;}#sk-container-id-1 div.sk-label label {font-family: monospace;font-weight: bold;display: inline-block;line-height: 1.2em;}#sk-container-id-1 div.sk-label-container {text-align: center;}#sk-container-id-1 div.sk-container {/* jupyter's `normalize.less` sets `[hidden] { display: none; }` but bootstrap.min.css set `[hidden] { display: none !important; }` so we also need the `!important` here to be able to override the default hidden behavior on the sphinx rendered scikit-learn.org. See: https://github.com/scikit-learn/scikit-learn/issues/21755 */display: inline-block !important;position: relative;}#sk-container-id-1 div.sk-text-repr-fallback {display: none;}</style><div id=\"sk-container-id-1\" class=\"sk-top-container\"><div class=\"sk-text-repr-fallback\"><pre>GaussianMixture(n_components=180, random_state=23)</pre><b>In a Jupyter environment, please rerun this cell to show the HTML representation or trust the notebook. <br />On GitHub, the HTML representation is unable to render, please try loading this page with nbviewer.org.</b></div><div class=\"sk-container\" hidden><div class=\"sk-item\"><div class=\"sk-estimator sk-toggleable\"><input class=\"sk-toggleable__control sk-hidden--visually\" id=\"sk-estimator-id-1\" type=\"checkbox\" checked><label for=\"sk-estimator-id-1\" class=\"sk-toggleable__label sk-toggleable__label-arrow\">GaussianMixture</label><div class=\"sk-toggleable__content\"><pre>GaussianMixture(n_components=180, random_state=23)</pre></div></div></div></div></div>"
            ]
          },
          "metadata": {},
          "execution_count": 8
        }
      ],
      "source": [
        "gm = GaussianMixture(n_components=min_aic_n, covariance_type='full', random_state=random_state)\n",
        "gm.fit(digits_pca)"
      ],
      "metadata": {
        "pycharm": {
          "name": "#%%\n"
        },
        "id": "c7oq5tkZ7hsR",
        "colab": {
          "base_uri": "https://localhost:8080/",
          "height": 75
        },
        "outputId": "2451a241-374f-489f-a73e-0900e01b7319"
      }
    },
    {
      "cell_type": "markdown",
      "source": [
        "При помощи метода <code>.sample()</code> сгенерируйте $100$ новых объектов.\n",
        "\n",
        "Введите выборочное среднее коориднаты с индексом $0$ сгенерированных объектов."
      ],
      "metadata": {
        "collapsed": false,
        "pycharm": {
          "name": "#%% md\n"
        },
        "id": "p1vjovgA7hsR"
      }
    },
    {
      "cell_type": "code",
      "execution_count": 9,
      "outputs": [
        {
          "output_type": "execute_result",
          "data": {
            "text/plain": [
              "-0.9712907488741024"
            ]
          },
          "metadata": {},
          "execution_count": 9
        }
      ],
      "source": [
        "samples, _ = gm.sample(100)\n",
        "samples[:, 0].mean()"
      ],
      "metadata": {
        "pycharm": {
          "name": "#%%\n"
        },
        "id": "VHMKmOSq7hsS",
        "colab": {
          "base_uri": "https://localhost:8080/"
        },
        "outputId": "76dbc5fd-31fa-4302-c4af-ab18bc01d91b"
      }
    },
    {
      "cell_type": "markdown",
      "source": [
        "При помоши метода <code>.inverse_transform()</code> класса <code>PCA</code> верните сгенерированные объекты в пространство исходных признаков."
      ],
      "metadata": {
        "collapsed": false,
        "pycharm": {
          "name": "#%% md\n"
        },
        "id": "l_PI0NTc7hsS"
      }
    },
    {
      "cell_type": "code",
      "execution_count": 10,
      "outputs": [],
      "source": [
        "inverse_samples = pca.inverse_transform(samples)"
      ],
      "metadata": {
        "pycharm": {
          "name": "#%%\n"
        },
        "id": "_KLbxq297hsS"
      }
    },
    {
      "cell_type": "markdown",
      "source": [
        "Визуализируйте полученные результаты. Введите номер изображения, соответствующего сгенерированному объекту с индексом $5$ (индексация начинается с нуля)"
      ],
      "metadata": {
        "id": "cgRK_l2G8I6p"
      }
    },
    {
      "cell_type": "code",
      "source": [
        "plt.imshow(inverse_samples[17].reshape((8, 8)), cmap='gray_r')"
      ],
      "metadata": {
        "id": "xj__POKA8zpH",
        "colab": {
          "base_uri": "https://localhost:8080/",
          "height": 447
        },
        "outputId": "3cdfc125-b2c1-4d4a-a0e2-68fae3ef65ea"
      },
      "execution_count": 11,
      "outputs": [
        {
          "output_type": "execute_result",
          "data": {
            "text/plain": [
              "<matplotlib.image.AxesImage at 0x7fc7b102af80>"
            ]
          },
          "metadata": {},
          "execution_count": 11
        },
        {
          "output_type": "display_data",
          "data": {
            "text/plain": [
              "<Figure size 640x480 with 1 Axes>"
            ],
            "image/png": "[encoded data removed]"
          },
          "metadata": {}
        }
      ]
    }
  ]
}