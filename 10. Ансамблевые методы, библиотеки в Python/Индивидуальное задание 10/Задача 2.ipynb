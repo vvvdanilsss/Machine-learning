{
 "nbformat": 4,
 "nbformat_minor": 0,
 "metadata": {
  "colab": {
   "provenance": [],
   "gpuType": "T4",
   "authorship_tag": "ABX9TyO/95JhEoxEf241zerW/GTf"
  },
  "kernelspec": {
   "name": "python3",
   "display_name": "Python 3"
  },
  "language_info": {
   "name": "python"
  },
  "accelerator": "GPU"
 },
 "cells": [
  {
   "cell_type": "code",
   "execution_count": 2,
   "metadata": {
    "colab": {
     "base_uri": "https://localhost:8080/"
    },
    "id": "EQbSzihtOiYb",
    "executionInfo": {
     "status": "ok",
     "timestamp": 1686383772835,
     "user_tz": -180,
     "elapsed": 17412,
     "user": {
      "displayName": "Данила Власов",
      "userId": "10847520665763514044"
     }
    },
    "outputId": "d6af70c1-c721-4d20-8cc2-fc78ca63165d"
   },
   "outputs": [
    {
     "output_type": "stream",
     "name": "stdout",
     "text": [
      "Mounted at /content/drive\n"
     ]
    }
   ],
   "source": [
    "from sklearn.model_selection import StratifiedKFold\n",
    "import matplotlib.pyplot as plt\n",
    "import pandas as pd\n",
    "import numpy as np\n",
    "from sklearn.ensemble import BaggingClassifier\n",
    "from sklearn.tree import DecisionTreeClassifier\n",
    "from sklearn.svm import LinearSVC\n",
    "from sklearn.ensemble import RandomForestClassifier\n",
    "from sklearn.linear_model import LogisticRegression\n",
    "from sklearn.ensemble import StackingClassifier\n",
    "from sklearn.metrics import classification_report \n",
    "from sklearn.model_selection import GridSearchCV\n",
    "from sklearn.model_selection import train_test_split\n",
    "from sklearn.ensemble import StackingClassifier\n",
    "from sklearn.ensemble import AdaBoostClassifier\n",
    "from sklearn.ensemble import GradientBoostingClassifier\n",
    "from sklearn.ensemble import  VotingClassifier\n",
    "from sklearn.svm import SVC\n",
    "from sklearn.linear_model import SGDClassifier\n",
    "\n",
    "from google.colab import drive\n",
    "drive.mount('/content/drive')"
   ]
  },
  {
   "cell_type": "code",
   "source": [
    "df = pd.read_csv('/content/drive/MyDrive/Colab Notebooks/Study/Machine-learning/10. Ансамблевые методы, библиотеки в Python/Индивидуальное задание 10/electricity_train.csv')\n",
    "x = df.drop(\"class\", axis=1)\n",
    "y = df[\"class\"]\n",
    "x_train, x_test, y_train, y_test = train_test_split(x, y, test_size=0.2, random_state=41)"
   ],
   "metadata": {
    "id": "QoBJ4gRQPEFi",
    "executionInfo": {
     "status": "ok",
     "timestamp": 1686383777432,
     "user_tz": -180,
     "elapsed": 1260,
     "user": {
      "displayName": "Данила Власов",
      "userId": "10847520665763514044"
     }
    }
   },
   "execution_count": 3,
   "outputs": []
  },
  {
   "cell_type": "code",
   "source": [
    "model_accuracies = {}\n",
    "\n",
    "n_estimators = [400, 500, 600]\n",
    "max_features = [2, 4, 6, len(x_train.columns)]\n",
    "\n",
    "cv = StratifiedKFold(n_splits=5, shuffle=True, random_state=12)\n",
    "\n",
    "random_forest = RandomForestClassifier(random_state=33, n_jobs=-1, oob_score=True)\n",
    "\n",
    "grid_rf = GridSearchCV(estimator=random_forest, cv=cv, \n",
    "        param_grid=dict(n_estimators=n_estimators, max_features=max_features))\n",
    "grid_rf.fit(x_train, y_train)\n",
    "print(\"best score: \", grid_rf.best_score_)\n",
    "print(\"best param: \", grid_rf.best_params_)\n",
    "model_accuracies['Random Forest'] = grid_rf.score(x_test, y_test)\n",
    "print(\"test score:\", model_accuracies['Random Forest'])"
   ],
   "metadata": {
    "colab": {
     "base_uri": "https://localhost:8080/"
    },
    "id": "S-9bcjUPPNf5",
    "executionInfo": {
     "status": "ok",
     "timestamp": 1686385667794,
     "user_tz": -180,
     "elapsed": 1888235,
     "user": {
      "displayName": "Данила Власов",
      "userId": "10847520665763514044"
     }
    },
    "outputId": "e91a48c0-675d-4153-a1cb-ee06f7c5b92a"
   },
   "execution_count": 4,
   "outputs": [
    {
     "output_type": "stream",
     "name": "stdout",
     "text": [
      "best score:  0.9090659209970804\n",
      "best param:  {'max_features': 6, 'n_estimators': 400}\n",
      "test score: 0.9173793103448276\n"
     ]
    }
   ]
  },
  {
   "cell_type": "code",
   "source": [
    "def plot_grid_search(cv_results, grid_param_1, grid_param_2, name_param_1, name_param_2):\n",
    "    # Get Test Scores Mean and std for each grid search\n",
    "    scores_mean = cv_results['mean_test_score']\n",
    "    scores_mean = np.array(scores_mean).reshape(len(grid_param_2),len(grid_param_1))\n",
    "\n",
    "    scores_sd = cv_results['std_test_score']\n",
    "    scores_sd = np.array(scores_sd).reshape(len(grid_param_2),len(grid_param_1))\n",
    "\n",
    "    # Plot Grid search scores\n",
    "    _, ax = plt.subplots(1,1,figsize=(15, 10))\n",
    "\n",
    "    # Param1 is the X-axis, Param 2 is represented as a different curve (color line)\n",
    "    for idx, val in enumerate(grid_param_2):\n",
    "        ax.plot(grid_param_1, scores_mean[idx,:], '-o', label= name_param_2 + ': ' + str(val))\n",
    "\n",
    "    ax.set_title(\"Grid Search Scores\", fontsize=20, fontweight='bold')\n",
    "    ax.set_xlabel(name_param_1, fontsize=16)\n",
    "    ax.set_ylabel('CV Average Score', fontsize=16)\n",
    "    ax.legend(loc=\"best\", fontsize=15)\n",
    "    ax.grid('on')"
   ],
   "metadata": {
    "id": "QuZpTtp6QV78"
   },
   "execution_count": null,
   "outputs": []
  },
  {
   "cell_type": "code",
   "source": [
    "plot_grid_search(grid_rf.cv_results_, n_estimators, max_features, 'n_estimators', 'max_features')"
   ],
   "metadata": {
    "id": "Bo-dGPmoQZIt"
   },
   "execution_count": null,
   "outputs": []
  },
  {
   "cell_type": "code",
   "source": [
    "n_estimators = [50]\n",
    "max_features = [8]\n",
    "criterion = [\"gini\", \"entropy\"]\n",
    "max_depth = np.arange(1, 25)\n",
    "\n",
    "cv = StratifiedKFold(n_splits=5, shuffle=True, random_state=12)\n",
    "\n",
    "random_forest = RandomForestClassifier(random_state=33, n_jobs=-1, oob_score=True)\n",
    "\n",
    "grid_rf = GridSearchCV(estimator=random_forest, cv=cv, \n",
    "        param_grid=dict(n_estimators=n_estimators, max_features=max_features,\n",
    "                        criterion=criterion, max_depth=max_depth))\n",
    "grid_rf.fit(x_train, y_train)\n",
    "print(\"best score: \", grid_rf.best_score_)\n",
    "print(\"best param: \", grid_rf.best_params_)\n",
    "model_accuracies['Random Forest'] = grid_rf.score(x_test, y_test)\n",
    "print(\"test score:\", model_accuracies['Random Forest'])"
   ],
   "metadata": {
    "id": "BgyWj25lQjWV"
   },
   "execution_count": null,
   "outputs": []
  },
  {
   "cell_type": "code",
   "source": [
    "plot_grid_search(grid_rf.cv_results_, max_depth, criterion, 'max_depth', 'criterion')"
   ],
   "metadata": {
    "id": "atb39eiDQmI0"
   },
   "execution_count": null,
   "outputs": []
  },
  {
   "cell_type": "code",
   "source": [
    "n_estimators = [50, 60, 70]\n",
    "max_features = [7, 8, 9]\n",
    "criterion = [\"entropy\"]\n",
    "max_depth = np.arange(8, 15)\n",
    "min_samples_split = [2, 4, 10]\n",
    "min_samples_leaf = [1, 2, 4]\n",
    "\n",
    "cv = StratifiedKFold(n_splits=5, shuffle=True, random_state=12)\n",
    "\n",
    "random_forest = RandomForestClassifier(random_state=33, n_jobs=-1, oob_score=True)\n",
    "\n",
    "grid_rf = GridSearchCV(estimator=random_forest, cv=cv, \n",
    "        param_grid=dict(n_estimators=n_estimators, max_features=max_features,\n",
    "                        criterion=criterion, max_depth=max_depth,\n",
    "                        min_samples_split=min_samples_split, min_samples_leaf=min_samples_leaf))\n",
    "grid_rf.fit(x_train, y_train)\n",
    "print(\"best score: \", grid_rf.best_score_)\n",
    "print(\"best param: \", grid_rf.best_params_)\n",
    "model_accuracies['Random Forest'] = grid_rf.score(x_test, y_test)\n",
    "print(\"test score:\", model_accuracies['Random Forest'])"
   ],
   "metadata": {
    "id": "uP9382sBQrqd"
   },
   "execution_count": null,
   "outputs": []
  },
  {
   "cell_type": "code",
   "source": [
    "cv = StratifiedKFold(n_splits=5, shuffle=True, random_state=41)\n",
    "params_grid = {'n_estimators': [100,300,500],\n",
    "                    'criterion': [\"gini\", \"entropy\"],\n",
    "  'max_leaf_nodes': list(range(6,10)),\n",
    "  'min_samples_leaf': [1,2,3]}\n",
    "grid = GridSearchCV(RandomForestClassifier(\n",
    "    bootstrap=False,\n",
    "    class_weight='balanced',\n",
    "    n_jobs=-1,\n",
    "    max_features='sqrt',\n",
    "    random_state=41),\n",
    "    params_grid,\n",
    "    verbose=4,\n",
    "    cv=cv)\n",
    "grid.fit(x_train, y_train)\n",
    "y_pred = grid.best_estimator_.predict(x_test)\n",
    "classification_report(y_test, y_pred, digits=3, output_dict=True)[\"accuracy\"]"
   ],
   "metadata": {
    "id": "MFvjKSF8Or51"
   },
   "execution_count": null,
   "outputs": []
  },
  {
   "cell_type": "code",
   "source": [
    "print(\"Accuracy of Random Forest: {:.4f}\".format(model_accuracies['Random Forest']))"
   ],
   "metadata": {
    "id": "fukKtQ_KRGMQ"
   },
   "execution_count": null,
   "outputs": []
  }
 ]
}
