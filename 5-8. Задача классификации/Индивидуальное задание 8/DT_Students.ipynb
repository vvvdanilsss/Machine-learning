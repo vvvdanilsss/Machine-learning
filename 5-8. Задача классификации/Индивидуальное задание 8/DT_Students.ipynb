{
 "cells": [
  {
   "cell_type": "markdown",
   "metadata": {
    "id": "WBsRp9afwB_k"
   },
   "source": [
    "# Классификация при помощи ДПР"
   ]
  },
  {
   "cell_type": "markdown",
   "metadata": {
    "id": "tAHDw8MfwMCs"
   },
   "source": [
    "# Описание набора данных"
   ]
  },
  {
   "cell_type": "markdown",
   "metadata": {
    "id": "xIaqzMrkMZq6"
   },
   "source": [
    "В этой лабораторной работе мы рассмотрим разные подходы к задаче классификации, в частности, деревья принятия решений, а также поговорим о том, как бороться с несбалансированностью датасета."
   ]
  },
  {
   "cell_type": "markdown",
   "metadata": {
    "id": "C_ayFAKDMjPs"
   },
   "source": [
    "Изучаемый нами набор данных — это набор данных о принятых предложениях по кредитам в банке **Thera-Bank**. Основные клиенты банка пользуются банком для того, чтобы разместить в нем свои денежные средства, то есть являются вкладчиками. В то же время, большую прибыль банку приносят кредиторы — люди, берущие в банке кредит. Поэтому банк хочет сформировать для своих вкладчиков выгодные предложения по кредиту. Кампания, проведенная банком для вкладчиков в прошлом году, показала, что коэффициент конверсии составил более 9,6%. Это побудило отдел маркетинга разработать кампании с улучшенным целевым маркетингом, чтобы увеличить вероятность успеха при, естественно, минимальном бюджете. Департамент хотел бы разработать классификатор, который поможет им определить потенциальных клиентов, которые с большей вероятностью приобретут кредит. Это повысит вероятность успеха при одновременном снижении стоимости кампании."
   ]
  },
  {
   "cell_type": "markdown",
   "metadata": {
    "id": "o7DY-rDVOGoE"
   },
   "source": [
    "Набор данных содержит как информацию о клиенте, так и информацию о его реакции на кампанию предыдущего года:\n",
    "\n",
    "*   **ID**: ID клиента\n",
    "\n",
    "*   **Age**: Возраст (полных лет)\n",
    "\n",
    "*   **Experience**: Стаж\n",
    "\n",
    "*   **Income**: Годовой доход (в тысячах)\n",
    "\n",
    "*   **ZIP Code**: Индекс места проживания\n",
    "\n",
    "*   **Family**: Количество членов семьи\n",
    "\n",
    "*   **CCAvg**: Средние траты в месяц по кредитной карте (в тысячах)\n",
    "\n",
    "*   **Education**: Уровень образования (1: бакалавр, 2: магистр, 3: что-то большее)\n",
    "\n",
    "*   **Mortgage**: Стоимость ипотеки, если имеется (в тысячах)\n",
    "\n",
    "*   **Securities Account**: Наличие счета в ценных бумагах\n",
    "\n",
    "*   **CD Account**: Наличие сертификата на депозит\n",
    "\n",
    "*   **Online**: Использует ли клиент интернет-банкинг\n",
    "\n",
    "*   **CreditCard**: Использует ли клиент кредитную карту, выпущенную данным банком\n",
    "\n",
    "*   **Personal Loan**: Принял ли клиент персональное предложение по кредиту (целевая переменная)"
   ]
  },
  {
   "cell_type": "markdown",
   "metadata": {
    "id": "npoTXkLETgmH"
   },
   "source": [
    "# Разведочный анализ данных"
   ]
  },
  {
   "cell_type": "markdown",
   "metadata": {
    "id": "8JD_Js7sBDX9"
   },
   "source": [
    "Считайте набор данных в датафрейм"
   ]
  },
  {
   "cell_type": "code",
   "execution_count": 28,
   "metadata": {
    "id": "N-EaF0UkMM--"
   },
   "outputs": [],
   "source": [
    "import seaborn as sns\n",
    "from sklearn.tree import DecisionTreeClassifier\n",
    "from sklearn.metrics import f1_score\n",
    "from sklearn.model_selection import train_test_split\n",
    "from imblearn.over_sampling import SMOTE\n",
    "from scipy.stats import zscore\n",
    "import matplotlib.pyplot as plt\n",
    "import pandas as pd\n",
    "\n",
    "df = pd.read_csv('Bank_Personal_Loan_Modelling_train.csv')"
   ]
  },
  {
   "cell_type": "markdown",
   "metadata": {
    "id": "czPRb3i9OD3E"
   },
   "source": [
    "При помощи метода <code>.describe()</code> изучите набор данных «с высоты птичьего полета»."
   ]
  },
  {
   "cell_type": "code",
   "execution_count": 29,
   "metadata": {
    "id": "obERUrx2MS-_"
   },
   "outputs": [
    {
     "data": {
      "text/html": [
       "<div>\n",
       "<style scoped>\n",
       "    .dataframe tbody tr th:only-of-type {\n",
       "        vertical-align: middle;\n",
       "    }\n",
       "\n",
       "    .dataframe tbody tr th {\n",
       "        vertical-align: top;\n",
       "    }\n",
       "\n",
       "    .dataframe thead th {\n",
       "        text-align: right;\n",
       "    }\n",
       "</style>\n",
       "<table border=\"1\" class=\"dataframe\">\n",
       "  <thead>\n",
       "    <tr style=\"text-align: right;\">\n",
       "      <th></th>\n",
       "      <th>ID</th>\n",
       "      <th>Age</th>\n",
       "      <th>Experience</th>\n",
       "      <th>Income</th>\n",
       "      <th>ZIP Code</th>\n",
       "      <th>Family</th>\n",
       "      <th>CCAvg</th>\n",
       "      <th>Education</th>\n",
       "      <th>Mortgage</th>\n",
       "      <th>Personal Loan</th>\n",
       "      <th>Securities Account</th>\n",
       "      <th>CD Account</th>\n",
       "      <th>Online</th>\n",
       "      <th>CreditCard</th>\n",
       "    </tr>\n",
       "  </thead>\n",
       "  <tbody>\n",
       "    <tr>\n",
       "      <th>count</th>\n",
       "      <td>4000.000000</td>\n",
       "      <td>4000.000000</td>\n",
       "      <td>4000.000000</td>\n",
       "      <td>4000.000000</td>\n",
       "      <td>4000.000000</td>\n",
       "      <td>4000.000000</td>\n",
       "      <td>4000.000000</td>\n",
       "      <td>4000.000000</td>\n",
       "      <td>4000.000000</td>\n",
       "      <td>4000.000000</td>\n",
       "      <td>4000.000000</td>\n",
       "      <td>4000.000000</td>\n",
       "      <td>4000.000000</td>\n",
       "      <td>4000.00000</td>\n",
       "    </tr>\n",
       "    <tr>\n",
       "      <th>mean</th>\n",
       "      <td>2497.682500</td>\n",
       "      <td>45.429500</td>\n",
       "      <td>20.196250</td>\n",
       "      <td>73.479750</td>\n",
       "      <td>93156.583750</td>\n",
       "      <td>2.381750</td>\n",
       "      <td>1.921805</td>\n",
       "      <td>1.881500</td>\n",
       "      <td>55.968250</td>\n",
       "      <td>0.096000</td>\n",
       "      <td>0.104000</td>\n",
       "      <td>0.061500</td>\n",
       "      <td>0.599000</td>\n",
       "      <td>0.29050</td>\n",
       "    </tr>\n",
       "    <tr>\n",
       "      <th>std</th>\n",
       "      <td>1449.723807</td>\n",
       "      <td>11.489235</td>\n",
       "      <td>11.500143</td>\n",
       "      <td>46.321345</td>\n",
       "      <td>2197.762636</td>\n",
       "      <td>1.149716</td>\n",
       "      <td>1.738974</td>\n",
       "      <td>0.842102</td>\n",
       "      <td>101.054887</td>\n",
       "      <td>0.294628</td>\n",
       "      <td>0.305299</td>\n",
       "      <td>0.240275</td>\n",
       "      <td>0.490162</td>\n",
       "      <td>0.45405</td>\n",
       "    </tr>\n",
       "    <tr>\n",
       "      <th>min</th>\n",
       "      <td>1.000000</td>\n",
       "      <td>23.000000</td>\n",
       "      <td>-3.000000</td>\n",
       "      <td>8.000000</td>\n",
       "      <td>9307.000000</td>\n",
       "      <td>1.000000</td>\n",
       "      <td>0.000000</td>\n",
       "      <td>1.000000</td>\n",
       "      <td>0.000000</td>\n",
       "      <td>0.000000</td>\n",
       "      <td>0.000000</td>\n",
       "      <td>0.000000</td>\n",
       "      <td>0.000000</td>\n",
       "      <td>0.00000</td>\n",
       "    </tr>\n",
       "    <tr>\n",
       "      <th>25%</th>\n",
       "      <td>1245.750000</td>\n",
       "      <td>35.000000</td>\n",
       "      <td>10.000000</td>\n",
       "      <td>38.000000</td>\n",
       "      <td>91941.750000</td>\n",
       "      <td>1.000000</td>\n",
       "      <td>0.700000</td>\n",
       "      <td>1.000000</td>\n",
       "      <td>0.000000</td>\n",
       "      <td>0.000000</td>\n",
       "      <td>0.000000</td>\n",
       "      <td>0.000000</td>\n",
       "      <td>0.000000</td>\n",
       "      <td>0.00000</td>\n",
       "    </tr>\n",
       "    <tr>\n",
       "      <th>50%</th>\n",
       "      <td>2492.500000</td>\n",
       "      <td>45.000000</td>\n",
       "      <td>20.000000</td>\n",
       "      <td>63.000000</td>\n",
       "      <td>93407.000000</td>\n",
       "      <td>2.000000</td>\n",
       "      <td>1.500000</td>\n",
       "      <td>2.000000</td>\n",
       "      <td>0.000000</td>\n",
       "      <td>0.000000</td>\n",
       "      <td>0.000000</td>\n",
       "      <td>0.000000</td>\n",
       "      <td>1.000000</td>\n",
       "      <td>0.00000</td>\n",
       "    </tr>\n",
       "    <tr>\n",
       "      <th>75%</th>\n",
       "      <td>3767.250000</td>\n",
       "      <td>55.000000</td>\n",
       "      <td>30.000000</td>\n",
       "      <td>98.000000</td>\n",
       "      <td>94608.000000</td>\n",
       "      <td>3.000000</td>\n",
       "      <td>2.500000</td>\n",
       "      <td>3.000000</td>\n",
       "      <td>100.000000</td>\n",
       "      <td>0.000000</td>\n",
       "      <td>0.000000</td>\n",
       "      <td>0.000000</td>\n",
       "      <td>1.000000</td>\n",
       "      <td>1.00000</td>\n",
       "    </tr>\n",
       "    <tr>\n",
       "      <th>max</th>\n",
       "      <td>5000.000000</td>\n",
       "      <td>67.000000</td>\n",
       "      <td>43.000000</td>\n",
       "      <td>224.000000</td>\n",
       "      <td>96651.000000</td>\n",
       "      <td>4.000000</td>\n",
       "      <td>10.000000</td>\n",
       "      <td>3.000000</td>\n",
       "      <td>635.000000</td>\n",
       "      <td>1.000000</td>\n",
       "      <td>1.000000</td>\n",
       "      <td>1.000000</td>\n",
       "      <td>1.000000</td>\n",
       "      <td>1.00000</td>\n",
       "    </tr>\n",
       "  </tbody>\n",
       "</table>\n",
       "</div>"
      ],
      "text/plain": [
       "                ID          Age   Experience       Income      ZIP Code  \\\n",
       "count  4000.000000  4000.000000  4000.000000  4000.000000   4000.000000   \n",
       "mean   2497.682500    45.429500    20.196250    73.479750  93156.583750   \n",
       "std    1449.723807    11.489235    11.500143    46.321345   2197.762636   \n",
       "min       1.000000    23.000000    -3.000000     8.000000   9307.000000   \n",
       "25%    1245.750000    35.000000    10.000000    38.000000  91941.750000   \n",
       "50%    2492.500000    45.000000    20.000000    63.000000  93407.000000   \n",
       "75%    3767.250000    55.000000    30.000000    98.000000  94608.000000   \n",
       "max    5000.000000    67.000000    43.000000   224.000000  96651.000000   \n",
       "\n",
       "            Family        CCAvg    Education     Mortgage  Personal Loan  \\\n",
       "count  4000.000000  4000.000000  4000.000000  4000.000000    4000.000000   \n",
       "mean      2.381750     1.921805     1.881500    55.968250       0.096000   \n",
       "std       1.149716     1.738974     0.842102   101.054887       0.294628   \n",
       "min       1.000000     0.000000     1.000000     0.000000       0.000000   \n",
       "25%       1.000000     0.700000     1.000000     0.000000       0.000000   \n",
       "50%       2.000000     1.500000     2.000000     0.000000       0.000000   \n",
       "75%       3.000000     2.500000     3.000000   100.000000       0.000000   \n",
       "max       4.000000    10.000000     3.000000   635.000000       1.000000   \n",
       "\n",
       "       Securities Account   CD Account       Online  CreditCard  \n",
       "count         4000.000000  4000.000000  4000.000000  4000.00000  \n",
       "mean             0.104000     0.061500     0.599000     0.29050  \n",
       "std              0.305299     0.240275     0.490162     0.45405  \n",
       "min              0.000000     0.000000     0.000000     0.00000  \n",
       "25%              0.000000     0.000000     0.000000     0.00000  \n",
       "50%              0.000000     0.000000     1.000000     0.00000  \n",
       "75%              0.000000     0.000000     1.000000     1.00000  \n",
       "max              1.000000     1.000000     1.000000     1.00000  "
      ]
     },
     "execution_count": 29,
     "metadata": {},
     "output_type": "execute_result"
    }
   ],
   "source": [
    "df.describe()"
   ]
  },
  {
   "cell_type": "markdown",
   "metadata": {
    "id": "57sZel7LPRzB"
   },
   "source": [
    "Набор данных содержит 14 переменных, 1 из которых является целевой.\n",
    "\n",
    "1 номинальная переменная: **ID**\n",
    "\n",
    "5 числовых переменных: **Age**, **Experience**, **Income**, **CCAvg**, **Mortgage**\n",
    "\n",
    "3 категориальные переменных: **Family**, **Education**, **ZIP Code**\n",
    "\n",
    "5 булевых переменных: **Personal Loan**, **Securities Account**, **CD Account**, **Online**, **CreditCard**\n",
    "\n",
    "Пропущенных значений нет.\n",
    "\n",
    "Experience содержит какие-то отрицательные значения"
   ]
  },
  {
   "cell_type": "markdown",
   "metadata": {
    "id": "4Wl4T4lDyKAK"
   },
   "source": [
    "Удалите колонку ID, она нам не понадобится"
   ]
  },
  {
   "cell_type": "code",
   "execution_count": 30,
   "metadata": {
    "id": "B3Wj00WZQiID"
   },
   "outputs": [],
   "source": [
    "df.drop('ID', axis=1, inplace=True)"
   ]
  },
  {
   "cell_type": "markdown",
   "metadata": {
    "id": "8_S0yiCEQvbC"
   },
   "source": [
    "Имеет смысл попробовать отловить каике-либо зависимости или их отсутствие.\n",
    "\n",
    "Постройте матрицу корреляций"
   ]
  },
  {
   "cell_type": "code",
   "execution_count": 31,
   "metadata": {
    "id": "JGrHybCnQ0q1"
   },
   "outputs": [
    {
     "data": {
      "text/plain": [
       "<Axes: >"
      ]
     },
     "execution_count": 31,
     "metadata": {},
     "output_type": "execute_result"
    },
    {
     "data": {
      "image/png": "[encoded data removed]",
      "text/plain": [
       "<Figure size 640x480 with 2 Axes>"
      ]
     },
     "metadata": {},
     "output_type": "display_data"
    }
   ],
   "source": [
    "c = df.corr()\n",
    "sns.heatmap(c)"
   ]
  },
  {
   "cell_type": "markdown",
   "metadata": {
    "id": "33KxJRptS_wP"
   },
   "source": [
    "Определите две наиболее коррелированных переменных"
   ]
  },
  {
   "cell_type": "code",
   "execution_count": 32,
   "metadata": {
    "id": "Xo1LgkW5ysoc"
   },
   "outputs": [
    {
     "data": {
      "text/plain": [
       "('Age', 'Experience')"
      ]
     },
     "execution_count": 32,
     "metadata": {},
     "output_type": "execute_result"
    }
   ],
   "source": [
    "max_corr = 0\n",
    "max_corr_x = ''\n",
    "max_corr_y = ''\n",
    "for i in range(len(df.columns)):\n",
    "    for j in range(i+1, len(df.columns)):\n",
    "        if i == j: continue\n",
    "\n",
    "        if c.loc[df.columns[i]][df.columns[j]] > max_corr:\n",
    "            max_corr = c.loc[df.columns[i]][df.columns[j]]\n",
    "            max_corr_x = df.columns[i]\n",
    "            max_corr_y = df.columns[j]\n",
    "\n",
    "max_corr_x, max_corr_y"
   ]
  },
  {
   "cell_type": "markdown",
   "metadata": {
    "id": "MIAngsDe2ppM"
   },
   "source": [
    "Определите признак, который меньше всего коррелирует (можно считать почти не коррелирует) с остальными признаками (в том числе с откликом). Удалите этот признак из рассмотрения.\n",
    "\n",
    "Введите название удаленного признака."
   ]
  },
  {
   "cell_type": "code",
   "execution_count": 33,
   "metadata": {
    "id": "bqOQ1cVk27fb"
   },
   "outputs": [
    {
     "data": {
      "text/plain": [
       "'ZIP Code'"
      ]
     },
     "execution_count": 33,
     "metadata": {},
     "output_type": "execute_result"
    }
   ],
   "source": [
    "min_corr = c.abs().sum().idxmin()\n",
    "df.drop(min_corr, axis=1, inplace=True)\n",
    "min_corr"
   ]
  },
  {
   "cell_type": "markdown",
   "metadata": {
    "id": "1T2nmzIqTleQ"
   },
   "source": [
    "# Предварительная подготовка данных"
   ]
  },
  {
   "cell_type": "markdown",
   "metadata": {
    "id": "owfKqPFi3JRb"
   },
   "source": [
    "## Модификация признаков"
   ]
  },
  {
   "cell_type": "markdown",
   "metadata": {
    "id": "mKAYY8dmX2v1"
   },
   "source": [
    "Стоит разобраться с полем <code>Experience</code>. Видно, что опыт коррелирует с возрастом. Однако, в поле <code>Experience</code> присутствуют отрицательные значения. Имеет смысл \"сдвинуть\" значения в этой колонке. Добавьте ко всем значениям колонки <code>Experience</code> одно число так, чтобы минимальное значение было равно $0$.\n",
    "\n",
    "Вычислите выборочное среднее колонки <code>Experience</code> после преобразования."
   ]
  },
  {
   "cell_type": "code",
   "execution_count": 34,
   "metadata": {
    "id": "HacXjLu6X_FU"
   },
   "outputs": [
    {
     "data": {
      "text/plain": [
       "23.19625"
      ]
     },
     "execution_count": 34,
     "metadata": {},
     "output_type": "execute_result"
    }
   ],
   "source": [
    "df['Experience'] -= df['Experience'].min()\n",
    "df[\"Experience\"].mean()"
   ]
  },
  {
   "cell_type": "markdown",
   "metadata": {
    "id": "0CPdKkpIb9Ko"
   },
   "source": [
    "Аналогично имеет смысл модфицировать поле <code>CCAvg</code>. Раз рассматривается годовой доход, то имеет смысл и значения трат рассматривать в рамках года.\n",
    "\n",
    "Вычислите выборочное среднее колонки <code>CCAvg</code> после преобразования."
   ]
  },
  {
   "cell_type": "code",
   "execution_count": 35,
   "metadata": {
    "id": "cE_wPGDeb7_J"
   },
   "outputs": [
    {
     "data": {
      "text/plain": [
       "23.06166"
      ]
     },
     "execution_count": 35,
     "metadata": {},
     "output_type": "execute_result"
    }
   ],
   "source": [
    "df['CCAvg'] *= 12\n",
    "df[\"CCAvg\"].mean()"
   ]
  },
  {
   "cell_type": "markdown",
   "metadata": {
    "id": "sck74wTfdwXF"
   },
   "source": [
    "## Определение выбросов"
   ]
  },
  {
   "cell_type": "markdown",
   "metadata": {
    "id": "_3rpqkJp3xY_"
   },
   "source": [
    "Постройте ящики с усами для всех предикторов. Рекомендуем использовать <code>sns.boxplot()</code>. Определите признак по изображению boxplot из вашего варианта."
   ]
  },
  {
   "cell_type": "code",
   "execution_count": 45,
   "metadata": {
    "id": "dqDNlzX3oKbT"
   },
   "outputs": [
    {
     "data": {
      "text/plain": [
       "<Axes: >"
      ]
     },
     "execution_count": 45,
     "metadata": {},
     "output_type": "execute_result"
    },
    {
     "data": {
      "image/png": "[encoded data removed]",
      "text/plain": [
       "<Figure size 640x480 with 1 Axes>"
      ]
     },
     "metadata": {},
     "output_type": "display_data"
    }
   ],
   "source": [
    "sns.boxplot(df['CCAvg'], orient='h')"
   ]
  },
  {
   "cell_type": "code",
   "execution_count": 46,
   "metadata": {},
   "outputs": [
    {
     "data": {
      "text/plain": [
       "<Axes: >"
      ]
     },
     "execution_count": 46,
     "metadata": {},
     "output_type": "execute_result"
    },
    {
     "data": {
      "image/png": "[encoded data removed]",
      "text/plain": [
       "<Figure size 640x480 with 1 Axes>"
      ]
     },
     "metadata": {},
     "output_type": "display_data"
    }
   ],
   "source": [
    "sns.boxplot(df['Income'], orient='h')"
   ]
  },
  {
   "cell_type": "markdown",
   "metadata": {
    "id": "fv2fr5pLRU54"
   },
   "source": [
    "Определите признак, содержащий наибольшее число выбросов. Введите название этого признака.\n"
   ]
  },
  {
   "cell_type": "code",
   "execution_count": 48,
   "metadata": {
    "id": "mTJhkJZyzeoy"
   },
   "outputs": [
    {
     "data": {
      "text/plain": [
       "<Axes: >"
      ]
     },
     "execution_count": 48,
     "metadata": {},
     "output_type": "execute_result"
    },
    {
     "data": {
      "image/png": "[encoded data removed]",
      "text/plain": [
       "<Figure size 640x480 with 1 Axes>"
      ]
     },
     "metadata": {},
     "output_type": "display_data"
    }
   ],
   "source": [
    "sns.boxplot(df['Mortgage'], orient='h')"
   ]
  },
  {
   "cell_type": "markdown",
   "metadata": {
    "id": "3YYxjhcmzfFB"
   },
   "source": [
    "Имеет смысл поработать с этим признаком, а для этого стоит руководствоваться следующими статистическими соображениями. Если вычесть из данных выборочное среднее, а после поделить на среднеквадратическое отклонение, то, пользуясь правилом 3-$\\sigma$ для нормального распределения, можно выбросить слишком далекие от нуля хвосты. Постройте гистограмму распределения значений в рамках этого признака."
   ]
  },
  {
   "cell_type": "code",
   "execution_count": 54,
   "metadata": {
    "id": "5dHRr6YD0U5U"
   },
   "outputs": [
    {
     "data": {
      "text/plain": [
       "(array([2769.,    0.,  302.,  263.,  197.,  130.,  110.,   56.,   52.,\n",
       "          38.]),\n",
       " array([  0. ,  35.9,  71.8, 107.7, 143.6, 179.5, 215.4, 251.3, 287.2,\n",
       "        323.1, 359. ]),\n",
       " <BarContainer object of 10 artists>)"
      ]
     },
     "execution_count": 54,
     "metadata": {},
     "output_type": "execute_result"
    },
    {
     "data": {
      "image/png": "[encoded data removed]",
      "text/plain": [
       "<Figure size 640x480 with 1 Axes>"
      ]
     },
     "metadata": {},
     "output_type": "display_data"
    }
   ],
   "source": [
    "plt.hist(df['Mortgage'])"
   ]
  },
  {
   "cell_type": "markdown",
   "metadata": {
    "id": "A1PjJGciS0JL"
   },
   "source": [
    "Очевидно в рамках этого признака есть небольшое количество значений, которые лежат далеко. Можно использовать <a href=\"https://docs.scipy.org/doc/scipy/reference/generated/scipy.stats.zscore.html\"><code>z-score</code></a> функцию из библиотеки <code>scipy</code>. \n",
    "\n",
    "Вспомнив курс теории вероятностей, становится понятно, что около $99.7\\%$ нормального распределения сождержатся в отрезке $[-3\\sigma, 3\\sigma]$. Определите число элементов, модуль <code>z-score</code> которых больше, чем $3$. "
   ]
  },
  {
   "cell_type": "code",
   "execution_count": 53,
   "metadata": {
    "id": "IAqVmGrDRq7J"
   },
   "outputs": [
    {
     "data": {
      "text/plain": [
       "82"
      ]
     },
     "execution_count": 53,
     "metadata": {},
     "output_type": "execute_result"
    }
   ],
   "source": [
    "(zscore(df['Mortgage']) > 3).sum()"
   ]
  },
  {
   "cell_type": "markdown",
   "metadata": {
    "id": "tUhbuuVkmG44"
   },
   "source": [
    "Итак, выбросов не очень множко, поэтому выбросите их из набора данных. Введите оставшееся в датасете число строк."
   ]
  },
  {
   "cell_type": "code",
   "execution_count": 59,
   "metadata": {
    "id": "BWLLchbGmKyx"
   },
   "outputs": [
    {
     "data": {
      "text/plain": [
       "3917"
      ]
     },
     "execution_count": 59,
     "metadata": {},
     "output_type": "execute_result"
    }
   ],
   "source": [
    "len(df)"
   ]
  },
  {
   "cell_type": "markdown",
   "metadata": {
    "id": "hMJ3LQA62_z7"
   },
   "source": [
    "# Построение моделей"
   ]
  },
  {
   "cell_type": "markdown",
   "metadata": {
    "id": "YraRCGS33aCP"
   },
   "source": [
    "# Базовый алгоритм"
   ]
  },
  {
   "cell_type": "markdown",
   "metadata": {
    "id": "-tN2AKL6myfS"
   },
   "source": [
    "При помощи <code>train_test_split</code> разобейте полученный набор данных на тренеровочную и тестовую выборки с параметрами, указанными в вашем варианте."
   ]
  },
  {
   "cell_type": "code",
   "execution_count": 57,
   "metadata": {
    "id": "y1YG3JZ9oDMI"
   },
   "outputs": [],
   "source": [
    "x = df.drop('Personal Loan', axis=1)\n",
    "y = df['Personal Loan']\n",
    "x_train, x_test, y_train, y_test = train_test_split(x, y, test_size=0.2, random_state=21, stratify=y)"
   ]
  },
  {
   "cell_type": "markdown",
   "metadata": {
    "id": "0NyWOkh13iNC"
   },
   "source": [
    "Обучите модель <code>DecisionTreeClassifier</code> с параметрами, указанными в вашем варианте на тренировочных данных, оцените на тестовых. Вычислите <code>f1_score</code> модели на тестовых данных."
   ]
  },
  {
   "cell_type": "code",
   "execution_count": 58,
   "metadata": {
    "id": "BJNg02bbaJj2"
   },
   "outputs": [
    {
     "data": {
      "text/plain": [
       "0.8985507246376812"
      ]
     },
     "execution_count": 58,
     "metadata": {},
     "output_type": "execute_result"
    }
   ],
   "source": [
    "tree = DecisionTreeClassifier(random_state=21, criterion='gini')\n",
    "tree.fit(x_train, y_train)\n",
    "y_pred = tree.predict(x_test)\n",
    "f1_score(y_test, y_pred)"
   ]
  },
  {
   "cell_type": "code",
   "execution_count": 60,
   "metadata": {},
   "outputs": [
    {
     "data": {
      "text/plain": [
       "0.8823529411764706"
      ]
     },
     "execution_count": 60,
     "metadata": {},
     "output_type": "execute_result"
    }
   ],
   "source": [
    "tree = DecisionTreeClassifier(random_state=21, criterion='entropy')\n",
    "tree.fit(x_train, y_train)\n",
    "y_pred = tree.predict(x_test)\n",
    "f1_score(y_test, y_pred)"
   ]
  },
  {
   "cell_type": "markdown",
   "metadata": {
    "id": "nz9iFfBK4KhL"
   },
   "source": [
    "## Учет дисбаланса соотношения классов"
   ]
  },
  {
   "cell_type": "markdown",
   "metadata": {
    "id": "3x7OGwQwa8V6"
   },
   "source": [
    "А теперь, если вспомнить, что выборка несбалансирована, то можно указать дополнительный параметр <code>class_weight</code>. Обучите модель <code>DecisionTreeClassifier</code> с параметрами, указанными в вашем варианте на тренировочных данных, оцените на тестовых. Вычислите <code>f1_score</code> модели на тестовых данных."
   ]
  },
  {
   "cell_type": "code",
   "execution_count": 61,
   "metadata": {
    "id": "gug5fOXAbMC6"
   },
   "outputs": [
    {
     "data": {
      "text/plain": [
       "0.9064748201438848"
      ]
     },
     "execution_count": 61,
     "metadata": {},
     "output_type": "execute_result"
    }
   ],
   "source": [
    "tree = DecisionTreeClassifier(random_state=21, criterion='gini', class_weight='balanced')\n",
    "tree.fit(x_train, y_train)\n",
    "y_pred = tree.predict(x_test)\n",
    "f1_score(y_test, y_pred)"
   ]
  },
  {
   "cell_type": "code",
   "execution_count": 62,
   "metadata": {},
   "outputs": [
    {
     "data": {
      "text/plain": [
       "0.8905109489051095"
      ]
     },
     "execution_count": 62,
     "metadata": {},
     "output_type": "execute_result"
    }
   ],
   "source": [
    "tree = DecisionTreeClassifier(random_state=21, criterion='entropy', class_weight='balanced')\n",
    "tree.fit(x_train, y_train)\n",
    "y_pred = tree.predict(x_test)\n",
    "f1_score(y_test, y_pred)"
   ]
  },
  {
   "cell_type": "markdown",
   "metadata": {
    "id": "8UgBmYo44pDE"
   },
   "source": [
    "## Upsampling обучающей выборки"
   ]
  },
  {
   "cell_type": "markdown",
   "metadata": {
    "id": "r5SQS_D0baaQ"
   },
   "source": [
    "Помимо очевидного присвоения весов несбалансированным классам, можно воспользоваться алгоритмом <code>SMOTE</code>. Ему на вход подаются экземпляры всех классов с их метками, а он в свою очередь пытается на их основе экстраполировать само распределение данных этого класса. После этого он сэмплирует новые объекты классов так, пока количество строк каждого класса не станет везде одинаковым.\n",
    "\n",
    "Получается, что в таком случае будет получена сбалансированная выборка, и пропадет нужда как-то ухищряться с весами и прочим. \n",
    "\n",
    "Определите долю элементов класса $0$ тренировочного набора данных."
   ]
  },
  {
   "cell_type": "code",
   "execution_count": 65,
   "metadata": {
    "id": "nOv98H3_ei8Z"
   },
   "outputs": [
    {
     "data": {
      "text/plain": [
       "0.9112671560804341"
      ]
     },
     "execution_count": 65,
     "metadata": {},
     "output_type": "execute_result"
    }
   ],
   "source": [
    "y_train.value_counts()[0] / len(y_train)"
   ]
  },
  {
   "cell_type": "markdown",
   "metadata": {
    "id": "DUrm8j5R6-dq"
   },
   "source": [
    "Используя класс <a href=\"https://imbalanced-learn.org/stable/references/generated/imblearn.over_sampling.SMOTE.html\"><code>SMOTE</code></a> из модуля <code>imblearn.over_sampling</code> сбалансируйте обучающую выборку с параметрами, указанными в вашем варианте."
   ]
  },
  {
   "cell_type": "code",
   "execution_count": 76,
   "metadata": {
    "id": "YWr1Mll1eYcd"
   },
   "outputs": [],
   "source": [
    "smote = SMOTE(random_state=21)\n",
    "x_train, y_train = smote.fit_resample(x_train, y_train)"
   ]
  },
  {
   "cell_type": "markdown",
   "metadata": {
    "id": "4xd6pDvt9Yxj"
   },
   "source": [
    "Убедитесь, что теперь в выборке содержится одинаковое число представителей обоих классов. Введите количество объектов класса $1$."
   ]
  },
  {
   "cell_type": "code",
   "execution_count": 77,
   "metadata": {
    "id": "lASmMyIee9FB"
   },
   "outputs": [
    {
     "data": {
      "text/plain": [
       "2855"
      ]
     },
     "execution_count": 77,
     "metadata": {},
     "output_type": "execute_result"
    }
   ],
   "source": [
    "y_train.value_counts()[1] "
   ]
  },
  {
   "cell_type": "markdown",
   "metadata": {
    "id": "-7M3ua0zfCl5"
   },
   "source": [
    "Снова обучите модель <code>DecisionTreeClassifier</code> с параметрами, указанными в вашем варианте на тренировочных данных, оцените на тестовых. Вычислите <code>f1_score</code> модели на тестовых данных."
   ]
  },
  {
   "cell_type": "code",
   "execution_count": 79,
   "metadata": {
    "id": "3J1YZg6ufFxo"
   },
   "outputs": [
    {
     "data": {
      "text/plain": [
       "0.8026315789473685"
      ]
     },
     "execution_count": 79,
     "metadata": {},
     "output_type": "execute_result"
    }
   ],
   "source": [
    "tree = DecisionTreeClassifier(random_state=21, criterion='gini')\n",
    "tree.fit(x_train, y_train)\n",
    "y_pred = tree.predict(x_test)\n",
    "f1_score(y_test, y_pred)"
   ]
  },
  {
   "cell_type": "code",
   "execution_count": 75,
   "metadata": {},
   "outputs": [
    {
     "data": {
      "text/plain": [
       "0.7894736842105263"
      ]
     },
     "execution_count": 75,
     "metadata": {},
     "output_type": "execute_result"
    }
   ],
   "source": [
    "tree = DecisionTreeClassifier(random_state=21, criterion='entropy')\n",
    "tree.fit(x_train, y_train)\n",
    "y_pred = tree.predict(x_test)\n",
    "f1_score(y_test, y_pred)"
   ]
  }
 ],
 "metadata": {
  "colab": {
   "provenance": []
  },
  "kernelspec": {
   "display_name": "Python 3 (ipykernel)",
   "language": "python",
   "name": "python3"
  },
  "language_info": {
   "codemirror_mode": {
    "name": "ipython",
    "version": 3
   },
   "file_extension": ".py",
   "mimetype": "text/x-python",
   "name": "python",
   "nbconvert_exporter": "python",
   "pygments_lexer": "ipython3",
   "version": "3.11.2"
  }
 },
 "nbformat": 4,
 "nbformat_minor": 1
}
